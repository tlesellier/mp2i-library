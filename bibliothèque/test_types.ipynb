{
 "cells": [
  {
   "cell_type": "code",
   "execution_count": 1,
   "id": "a3ab6d8d-4e27-42fd-80dd-9dcb462e6a12",
   "metadata": {},
   "outputs": [
    {
     "name": "stdout",
     "output_type": "stream",
     "text": [
      "type 'a dyn = { mutable tab : 'a array; mutable size : int; }\n",
      "val make_dyn : int -> 'a -> 'a dyn = <fun>\n",
      "val add : 'a -> 'a dyn -> unit = <fun>\n",
      "type 'a l2c = { elem : 'a; mutable prev : 'a l2c; mutable next : 'a l2c; }\n",
      "val create : 'a -> 'a l2c = <fun>\n",
      "val ladd : 'a -> 'a l2c -> unit = <fun>\n",
      "val del : 'a l2c -> unit = <fun>\n",
      "val length : 'a l2c -> int = <fun>\n",
      "val print_l2c : int l2c -> unit = <fun>\n",
      "val mem : 'a -> 'a l2c -> bool = <fun>\n",
      "val fusion : 'a l2c -> 'a l2c -> unit = <fun>\n",
      "type 'a file = {\n",
      "  tab : 'a array;\n",
      "  mutable deb : int;\n",
      "  mutable fin : int;\n",
      "  mutable vide : bool;\n",
      "}\n",
      "val ajoute : 'a file -> 'a -> unit = <fun>\n",
      "val retire : 'a file -> 'a = <fun>\n"
     ]
    }
   ],
   "source": [
    "#use \"./types(1).ml\""
   ]
  },
  {
   "cell_type": "code",
   "execution_count": 21,
   "id": "af76ebf4-3686-4306-84dc-9b6a3b5ccacc",
   "metadata": {},
   "outputs": [
    {
     "data": {
      "text/plain": [
       "val d : int dyn =\n",
       "  {tab = [|7; 7; 7; 7; 7; 7; 7; 7; 7; 7; 7; 7; 7; 7|]; size = 7}\n"
      ]
     },
     "execution_count": 21,
     "metadata": {},
     "output_type": "execute_result"
    }
   ],
   "source": [
    "let d = make_dyn 7 7"
   ]
  },
  {
   "cell_type": "code",
   "execution_count": 22,
   "id": "c65b08ab-1a4b-4b54-af68-9223bbbe500f",
   "metadata": {},
   "outputs": [
    {
     "data": {
      "text/plain": [
       "- : unit = ()\n"
      ]
     },
     "execution_count": 22,
     "metadata": {},
     "output_type": "execute_result"
    }
   ],
   "source": [
    "add 9 d"
   ]
  },
  {
   "cell_type": "code",
   "execution_count": 2,
   "id": "4b6acd7e-cbd9-400c-ab0d-4d5fbecc252e",
   "metadata": {},
   "outputs": [
    {
     "data": {
      "text/plain": [
       "val l : int l2c = {elem = 8; prev = <cycle>; next = <cycle>}\n"
      ]
     },
     "execution_count": 2,
     "metadata": {},
     "output_type": "execute_result"
    }
   ],
   "source": [
    "let l = create 8"
   ]
  },
  {
   "cell_type": "code",
   "execution_count": 3,
   "id": "3d10e4c0-62fd-45fb-a30e-f7ef4ecb8b8f",
   "metadata": {},
   "outputs": [
    {
     "data": {
      "text/plain": [
       "- : unit = ()\n"
      ]
     },
     "execution_count": 3,
     "metadata": {},
     "output_type": "execute_result"
    }
   ],
   "source": [
    "ladd 9 l"
   ]
  },
  {
   "cell_type": "code",
   "execution_count": 4,
   "id": "13fd810a-3b90-4179-b25a-3dd616f6ded2",
   "metadata": {},
   "outputs": [
    {
     "data": {
      "text/plain": [
       "- : unit = ()\n"
      ]
     },
     "execution_count": 4,
     "metadata": {},
     "output_type": "execute_result"
    }
   ],
   "source": [
    "del l"
   ]
  },
  {
   "cell_type": "code",
   "execution_count": 6,
   "id": "1273266f-67eb-4e3a-b3df-74cee59b1603",
   "metadata": {},
   "outputs": [
    {
     "data": {
      "text/plain": [
       "- : bool = true\n"
      ]
     },
     "execution_count": 6,
     "metadata": {},
     "output_type": "execute_result"
    }
   ],
   "source": [
    "mem 8 l"
   ]
  },
  {
   "cell_type": "code",
   "execution_count": 7,
   "id": "d290e033-c22e-4e53-bee2-9b2c86bc9c11",
   "metadata": {},
   "outputs": [
    {
     "data": {
      "text/plain": [
       "- : unit = ()\n"
      ]
     },
     "execution_count": 7,
     "metadata": {},
     "output_type": "execute_result"
    }
   ],
   "source": [
    "fusion l (create 9)"
   ]
  },
  {
   "cell_type": "code",
   "execution_count": null,
   "id": "478feace-0a91-4349-bad7-49416bb084d3",
   "metadata": {},
   "outputs": [],
   "source": [
    "{tab"
   ]
  }
 ],
 "metadata": {
  "kernelspec": {
   "display_name": "OCaml default",
   "language": "OCaml",
   "name": "ocaml-jupyter"
  },
  "language_info": {
   "codemirror_mode": "text/x-ocaml",
   "file_extension": ".ml",
   "mimetype": "text/x-ocaml",
   "name": "OCaml",
   "nbconverter_exporter": null,
   "pygments_lexer": "OCaml",
   "version": "4.08.1"
  }
 },
 "nbformat": 4,
 "nbformat_minor": 5
}
